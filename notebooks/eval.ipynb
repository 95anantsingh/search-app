{
 "cells": [
  {
   "cell_type": "code",
   "execution_count": 1,
   "metadata": {},
   "outputs": [
    {
     "name": "stdout",
     "output_type": "stream",
     "text": [
      "c:\\Users\\Anant\\Work\\search-app\n"
     ]
    }
   ],
   "source": [
    "# change dir to root\n",
    "%cd ../"
   ]
  },
  {
   "cell_type": "markdown",
   "metadata": {},
   "source": [
    "## Evaluation"
   ]
  },
  {
   "cell_type": "code",
   "execution_count": 2,
   "metadata": {},
   "outputs": [],
   "source": [
    "import json\n",
    "import torch\n",
    "import numpy as np\n",
    "import pandas as pd\n",
    "from tqdm.auto import tqdm\n",
    "from sklearn.metrics import ndcg_score, average_precision_score\n",
    "from core import TFIDFSearch, BM25Search, NeuralSearch, HybridSearch, RETRIVAL_MODELS, SCORE_TYPES, MEAN_TYPES, NORM_TYPES"
   ]
  },
  {
   "cell_type": "code",
   "execution_count": 3,
   "metadata": {},
   "outputs": [],
   "source": [
    "def get_metrics(true_scores_df, model, mean_type=None, norm_type=None, k=20):\n",
    "    ndcg = []\n",
    "    pbar = tqdm(\n",
    "        desc=\"Evaluating nDCG Score \",\n",
    "        total=true_scores_df.shape[0],\n",
    "        unit=\"query\",\n",
    "        leave=False,\n",
    "    )\n",
    "    for index, row in true_scores_df.iterrows():\n",
    "        if model.__class__.__name__ == \"HybridSearch\":\n",
    "            y_score = (\n",
    "                model.get_scores(row.QUERY, mean_type, norm_type)\n",
    "                .sort_index()\n",
    "                .SCORE.tolist()\n",
    "            )\n",
    "        else:\n",
    "            y_score = model.get_scores(row.QUERY).sort_index().SCORE.tolist()\n",
    "        y_true = json.loads(row.SCORES)\n",
    "        ndcg.append(ndcg_score([y_true], [y_score], k=k))\n",
    "        pbar.update(1)\n",
    "    pbar.close()\n",
    "\n",
    "    return np.mean(ndcg)"
   ]
  },
  {
   "cell_type": "code",
   "execution_count": 4,
   "metadata": {},
   "outputs": [],
   "source": [
    "true_scores = pd.read_csv('./data/processed/true_scores.csv')"
   ]
  },
  {
   "cell_type": "markdown",
   "metadata": {},
   "source": [
    "### TFIDF"
   ]
  },
  {
   "cell_type": "code",
   "execution_count": 5,
   "metadata": {},
   "outputs": [
    {
     "data": {
      "application/vnd.jupyter.widget-view+json": {
       "model_id": "1d9dca9a08424bf682427e4f8d136627",
       "version_major": 2,
       "version_minor": 0
      },
      "text/plain": [
       "Evaluating nDCG Score :   0%|          | 0/3333 [00:00<?, ?query/s]"
      ]
     },
     "metadata": {},
     "output_type": "display_data"
    },
    {
     "name": "stdout",
     "output_type": "stream",
     "text": [
      "NDCG Score: 0.9114985854389379\n"
     ]
    }
   ],
   "source": [
    "model = TFIDFSearch()\n",
    "print('NDCG Score:',get_metrics(true_scores, model))"
   ]
  },
  {
   "cell_type": "markdown",
   "metadata": {},
   "source": [
    "### BM25"
   ]
  },
  {
   "cell_type": "code",
   "execution_count": 6,
   "metadata": {},
   "outputs": [
    {
     "data": {
      "application/vnd.jupyter.widget-view+json": {
       "model_id": "706f86a80c384cd0a93ee91d3ad19709",
       "version_major": 2,
       "version_minor": 0
      },
      "text/plain": [
       "Evaluating nDCG Score :   0%|          | 0/3333 [00:00<?, ?query/s]"
      ]
     },
     "metadata": {},
     "output_type": "display_data"
    },
    {
     "name": "stdout",
     "output_type": "stream",
     "text": [
      "NDCG Score: 0.9027729326623276\n"
     ]
    }
   ],
   "source": [
    "model = BM25Search()\n",
    "print('NDCG Score:',get_metrics(true_scores, model))"
   ]
  },
  {
   "cell_type": "markdown",
   "metadata": {},
   "source": [
    "### Neural"
   ]
  },
  {
   "cell_type": "code",
   "execution_count": null,
   "metadata": {},
   "outputs": [],
   "source": [
    "for model_name in RETRIVAL_MODELS:\n",
    "    print(f'Model: {model_name}')\n",
    "    for score_type in SCORE_TYPES:\n",
    "        model = NeuralSearch(model=model_name, score_type=score_type)\n",
    "        score = get_metrics(true_scores, model)\n",
    "        print(f'Score Type: {score_type}\\t;\\tScore: {score}')\n",
    "        del(model)\n",
    "        torch.cuda.empty_cache()\n",
    "    print('\\n')"
   ]
  },
  {
   "cell_type": "code",
   "execution_count": null,
   "metadata": {},
   "outputs": [],
   "source": [
    "Model: BAAI/bge-base-en-v1.5\n",
    "Score Type: Dot Product\t        ;\tScore: 0.8575061348159865\n",
    "Score Type: Cosine Similarity\t;\tScore: 0.8575061348159865\n",
    "\n",
    "Model: thenlper/gte-large\n",
    "Score Type: Dot Product\t        ;\tScore: 0.8773796912454879\n",
    "Score Type: Cosine Similarity\t;\tScore: 0.8773796912454879\n",
    "\n",
    "Model: llmrails/ember-v1\n",
    "Score Type: Dot Product\t        ;\tScore: 0.8041243430795993\n",
    "Score Type: Cosine Similarity\t;\tScore: 0.8434121092569689\n",
    "\n",
    "Model: thenlper/gte-base\n",
    "Score Type: Dot Product\t        ;\tScore: 0.8843679159293903\n",
    "Score Type: Cosine Similarity\t;\tScore: 0.8843679159293903\n",
    "\n",
    "Model: all-distilroberta-v1\n",
    "Score Type: Dot Product\t        ;\tScore: 0.7205834484750344\n",
    "Score Type: Cosine Similarity\t;\tScore: 0.7205834484750344\n",
    "\n",
    "Model: msmarco-distilbert-base-v4\n",
    "Score Type: Dot Product\t        ;\tScore: 0.7505768344386088\n",
    "Score Type: Cosine Similarity\t;\tScore: 0.7674091011409188\n",
    "\n",
    "Model: msmarco-MiniLM-L-6-v3\n",
    "Score Type: Dot Product\t        ;\tScore: 0.6871907026867569\n",
    "Score Type: Cosine Similarity\t;\tScore: 0.7588424587892733\n",
    "\n",
    "Model: msmarco-MiniLM-L-12-v3\n",
    "Score Type: Dot Product\t        ;\tScore: 0.7376601596872528\n",
    "Score Type: Cosine Similarity\t;\tScore: 0.7880065060269283\n",
    "\n",
    "Model: msmarco-distilbert-base-tas-b\n",
    "Score Type: Dot Product\t        ;\tScore: 0.9012300542971058\n",
    "Score Type: Cosine Similarity\t;\tScore: 0.8716073130245685"
   ]
  },
  {
   "cell_type": "markdown",
   "metadata": {},
   "source": [
    "### Hybid"
   ]
  },
  {
   "cell_type": "code",
   "execution_count": null,
   "metadata": {},
   "outputs": [],
   "source": [
    "for model_name in RETRIVAL_MODELS:\n",
    "    print(f'Model: {model_name}')\n",
    "    for mean_type in MEAN_TYPES:\n",
    "        for norm_type in [None]+NORM_TYPES:\n",
    "            for score_type in SCORE_TYPES:\n",
    "                model = HybridSearch(model=model_name, score_type=score_type)\n",
    "                score = get_metrics(true_scores, model, mean_type, norm_type)\n",
    "                print(f'Mean Type: {mean_type}\\t;\\tNorm Type: {norm_type}\\t;\\tScore Type: {score_type}\\t;\\tScore: {score}')\n",
    "                del(model)\n",
    "                torch.cuda.empty_cache()\n",
    "    print('\\n')"
   ]
  },
  {
   "cell_type": "code",
   "execution_count": null,
   "metadata": {},
   "outputs": [],
   "source": [
    "Model: BAAI/bge-base-en-v1.5\n",
    "Mean Type: Arithmetic\t;\tNorm Type: None\t;\tScore Type: Dot Product\t;\tScore: 0.9404823059231748\n",
    "Mean Type: Arithmetic\t;\tNorm Type: None\t;\tScore Type: Cosine Similarity\t;\tScore: 0.9404823059231748\n",
    "Mean Type: Arithmetic\t;\tNorm Type: L2\t;\tScore Type: Dot Product\t;\tScore: 0.9406323735097765\n",
    "Mean Type: Arithmetic\t;\tNorm Type: L2\t;\tScore Type: Cosine Similarity\t;\tScore: 0.9406323735097765\n",
    "Mean Type: Arithmetic\t;\tNorm Type: Min-Max\t;\tScore Type: Dot Product\t;\tScore: 0.9381730386226522\n",
    "Mean Type: Arithmetic\t;\tNorm Type: Min-Max\t;\tScore Type: Cosine Similarity\t;\tScore: 0.9381730386226522\n",
    "Mean Type: Geometric\t;\tNorm Type: None\t;\tScore Type: Dot Product\t;\tScore: 0.906591376131558\n",
    "Mean Type: Geometric\t;\tNorm Type: None\t;\tScore Type: Cosine Similarity\t;\tScore: 0.906591376131558\n",
    "Mean Type: Geometric\t;\tNorm Type: L2\t;\tScore Type: Dot Product\t;\tScore: 0.906591376131558\n",
    "Mean Type: Geometric\t;\tNorm Type: L2\t;\tScore Type: Cosine Similarity\t;\tScore: 0.906591376131558\n",
    "Mean Type: Geometric\t;\tNorm Type: Min-Max\t;\tScore Type: Dot Product\t;\tScore: 0.908403983772282\n",
    "Mean Type: Geometric\t;\tNorm Type: Min-Max\t;\tScore Type: Cosine Similarity\t;\tScore: 0.908403983772282\n",
    "Mean Type: Harmonic\t;\tNorm Type: None\t;\tScore Type: Dot Product\t;\tScore: 0.907573547288544\n",
    "Mean Type: Harmonic\t;\tNorm Type: None\t;\tScore Type: Cosine Similarity\t;\tScore: 0.907573547288544\n",
    "Mean Type: Harmonic\t;\tNorm Type: L2\t;\tScore Type: Dot Product\t;\tScore: 0.9103763005702836\n",
    "Mean Type: Harmonic\t;\tNorm Type: L2\t;\tScore Type: Cosine Similarity\t;\tScore: 0.9103763005702836\n",
    "Mean Type: Harmonic\t;\tNorm Type: Min-Max\t;\tScore Type: Dot Product\t;\tScore: 0.9088665809755663\n",
    "Mean Type: Harmonic\t;\tNorm Type: Min-Max\t;\tScore Type: Cosine Similarity\t;\tScore: 0.9088665809755663\n",
    "\n",
    "\n",
    "Model: thenlper/gte-large\n",
    "Mean Type: Arithmetic\t;\tNorm Type: None\t;\tScore Type: Dot Product\t;\tScore: 0.9416377062981929\n",
    "Mean Type: Arithmetic\t;\tNorm Type: None\t;\tScore Type: Cosine Similarity\t;\tScore: 0.9416377062981929\n",
    "Mean Type: Arithmetic\t;\tNorm Type: L2\t;\tScore Type: Dot Product\t;\tScore: 0.941611383105613\n",
    "Mean Type: Arithmetic\t;\tNorm Type: L2\t;\tScore Type: Cosine Similarity\t;\tScore: 0.941611383105613\n",
    "Mean Type: Arithmetic\t;\tNorm Type: Min-Max\t;\tScore Type: Dot Product\t;\tScore: 0.945729762984324\n",
    "Mean Type: Arithmetic\t;\tNorm Type: Min-Max\t;\tScore Type: Cosine Similarity\t;\tScore: 0.945729762984324\n",
    "Mean Type: Geometric\t;\tNorm Type: None\t;\tScore Type: Dot Product\t;\tScore: 0.906725652726001\n",
    "Mean Type: Geometric\t;\tNorm Type: None\t;\tScore Type: Cosine Similarity\t;\tScore: 0.906725652726001\n",
    "Mean Type: Geometric\t;\tNorm Type: L2\t;\tScore Type: Dot Product\t;\tScore: 0.906725652726001\n",
    "Mean Type: Geometric\t;\tNorm Type: L2\t;\tScore Type: Cosine Similarity\t;\tScore: 0.906725652726001\n",
    "Mean Type: Geometric\t;\tNorm Type: Min-Max\t;\tScore Type: Dot Product\t;\tScore: 0.9128019346323036\n",
    "Mean Type: Geometric\t;\tNorm Type: Min-Max\t;\tScore Type: Cosine Similarity\t;\tScore: 0.9128019346323036\n",
    "Mean Type: Harmonic\t;\tNorm Type: None\t;\tScore Type: Dot Product\t;\tScore: 0.912265174934058\n",
    "Mean Type: Harmonic\t;\tNorm Type: None\t;\tScore Type: Cosine Similarity\t;\tScore: 0.912265174934058\n",
    "Mean Type: Harmonic\t;\tNorm Type: L2\t;\tScore Type: Dot Product\t;\tScore: 0.9123662269116276\n",
    "Mean Type: Harmonic\t;\tNorm Type: L2\t;\tScore Type: Cosine Similarity\t;\tScore: 0.9123662269116276\n",
    "Mean Type: Harmonic\t;\tNorm Type: Min-Max\t;\tScore Type: Dot Product\t;\tScore: 0.9129155237046395\n",
    "Mean Type: Harmonic\t;\tNorm Type: Min-Max\t;\tScore Type: Cosine Similarity\t;\tScore: 0.9129155237046395\n",
    "\n",
    "\n",
    "Model: llmrails/ember-v1\n",
    "Mean Type: Arithmetic\t;\tNorm Type: None\t;\tScore Type: Dot Product\t;\tScore: 0.8433413830906041\n",
    "Mean Type: Arithmetic\t;\tNorm Type: None\t;\tScore Type: Cosine Similarity\t;\tScore: 0.9374255311163692\n",
    "Mean Type: Arithmetic\t;\tNorm Type: L2\t;\tScore Type: Dot Product\t;\tScore: 0.935698322955202\n",
    "Mean Type: Arithmetic\t;\tNorm Type: L2\t;\tScore Type: Cosine Similarity\t;\tScore: 0.9374569783019548\n",
    "Mean Type: Arithmetic\t;\tNorm Type: Min-Max\t;\tScore Type: Dot Product\t;\tScore: 0.9322476561211566\n",
    "Mean Type: Arithmetic\t;\tNorm Type: Min-Max\t;\tScore Type: Cosine Similarity\t;\tScore: 0.9375673025407658\n",
    "Mean Type: Geometric\t;\tNorm Type: None\t;\tScore Type: Dot Product\t;\tScore: 0.9068510484725307\n",
    "Mean Type: Geometric\t;\tNorm Type: None\t;\tScore Type: Cosine Similarity\t;\tScore: 0.9093774021322129\n",
    "Mean Type: Geometric\t;\tNorm Type: L2\t;\tScore Type: Dot Product\t;\tScore: 0.9068510484725307\n",
    "Mean Type: Geometric\t;\tNorm Type: L2\t;\tScore Type: Cosine Similarity\t;\tScore: 0.9093774021322129\n",
    "Mean Type: Geometric\t;\tNorm Type: Min-Max\t;\tScore Type: Dot Product\t;\tScore: 0.9078807884278359\n",
    "Mean Type: Geometric\t;\tNorm Type: Min-Max\t;\tScore Type: Cosine Similarity\t;\tScore: 0.9114604815685324\n",
    "Mean Type: Harmonic\t;\tNorm Type: None\t;\tScore Type: Dot Product\t;\tScore: 0.9036730358544254\n",
    "Mean Type: Harmonic\t;\tNorm Type: None\t;\tScore Type: Cosine Similarity\t;\tScore: 0.9124875116305171\n",
    "Mean Type: Harmonic\t;\tNorm Type: L2\t;\tScore Type: Dot Product\t;\tScore: 0.9095566002041273\n",
    "Mean Type: Harmonic\t;\tNorm Type: L2\t;\tScore Type: Cosine Similarity\t;\tScore: 0.9136068565238556\n",
    "Mean Type: Harmonic\t;\tNorm Type: Min-Max\t;\tScore Type: Dot Product\t;\tScore: 0.9088610025623405\n",
    "Mean Type: Harmonic\t;\tNorm Type: Min-Max\t;\tScore Type: Cosine Similarity\t;\tScore: 0.9117326598061203\n",
    "\n",
    "\n",
    "Model: thenlper/gte-base\n",
    "Mean Type: Arithmetic\t;\tNorm Type: None\t;\tScore Type: Dot Product\t;\tScore: 0.9426274471521076\n",
    "Mean Type: Arithmetic\t;\tNorm Type: None\t;\tScore Type: Cosine Similarity\t;\tScore: 0.9426274471521076\n",
    "Mean Type: Arithmetic\t;\tNorm Type: L2\t;\tScore Type: Dot Product\t;\tScore: 0.9425341957478749\n",
    "Mean Type: Arithmetic\t;\tNorm Type: L2\t;\tScore Type: Cosine Similarity\t;\tScore: 0.9425341957478749\n",
    "Mean Type: Arithmetic\t;\tNorm Type: Min-Max\t;\tScore Type: Dot Product\t;\tScore: 0.9433059488344918\n",
    "Mean Type: Arithmetic\t;\tNorm Type: Min-Max\t;\tScore Type: Cosine Similarity\t;\tScore: 0.9433059488344918\n",
    "Mean Type: Geometric\t;\tNorm Type: None\t;\tScore Type: Dot Product\t;\tScore: 0.9054415735302624\n",
    "Mean Type: Geometric\t;\tNorm Type: None\t;\tScore Type: Cosine Similarity\t;\tScore: 0.9054415735302624\n",
    "Mean Type: Geometric\t;\tNorm Type: L2\t;\tScore Type: Dot Product\t;\tScore: 0.9054415735302624\n",
    "Mean Type: Geometric\t;\tNorm Type: L2\t;\tScore Type: Cosine Similarity\t;\tScore: 0.9054415735302624\n",
    "Mean Type: Geometric\t;\tNorm Type: Min-Max\t;\tScore Type: Dot Product\t;\tScore: 0.9101136382871488\n",
    "Mean Type: Geometric\t;\tNorm Type: Min-Max\t;\tScore Type: Cosine Similarity\t;\tScore: 0.9101136382871488\n",
    "Mean Type: Harmonic\t;\tNorm Type: None\t;\tScore Type: Dot Product\t;\tScore: 0.9095688814063454\n",
    "Mean Type: Harmonic\t;\tNorm Type: None\t;\tScore Type: Cosine Similarity\t;\tScore: 0.9095688814063454\n",
    "Mean Type: Harmonic\t;\tNorm Type: L2\t;\tScore Type: Dot Product\t;\tScore: 0.9097522296731663\n",
    "Mean Type: Harmonic\t;\tNorm Type: L2\t;\tScore Type: Cosine Similarity\t;\tScore: 0.9097522296731663\n",
    "Mean Type: Harmonic\t;\tNorm Type: Min-Max\t;\tScore Type: Dot Product\t;\tScore: 0.9113946289110133\n",
    "Mean Type: Harmonic\t;\tNorm Type: Min-Max\t;\tScore Type: Cosine Similarity\t;\tScore: 0.9113946289110133\n",
    "\n",
    "\n",
    "Model: msmarco-distilbert-base-v4\n",
    "Mean Type: Arithmetic\t;\tNorm Type: None\t;\tScore Type: Dot Product\t;\tScore: 0.8124524872914669\n",
    "Mean Type: Arithmetic\t;\tNorm Type: None\t;\tScore Type: Cosine Similarity\t;\tScore: 0.9364812976973078\n",
    "Mean Type: Arithmetic\t;\tNorm Type: L2\t;\tScore Type: Dot Product\t;\tScore: 0.9337995168681117\n",
    "Mean Type: Arithmetic\t;\tNorm Type: L2\t;\tScore Type: Cosine Similarity\t;\tScore: 0.9366872892992631\n",
    "Mean Type: Arithmetic\t;\tNorm Type: Min-Max\t;\tScore Type: Dot Product\t;\tScore: 0.92949454934997\n",
    "Mean Type: Arithmetic\t;\tNorm Type: Min-Max\t;\tScore Type: Cosine Similarity\t;\tScore: 0.9334576845950363\n",
    "Mean Type: Geometric\t;\tNorm Type: None\t;\tScore Type: Dot Product\t;\tScore: 0.9010649670560243\n",
    "Mean Type: Geometric\t;\tNorm Type: None\t;\tScore Type: Cosine Similarity\t;\tScore: 0.9039424451227377\n",
    "Mean Type: Geometric\t;\tNorm Type: L2\t;\tScore Type: Dot Product\t;\tScore: 0.9010649670560243\n",
    "Mean Type: Geometric\t;\tNorm Type: L2\t;\tScore Type: Cosine Similarity\t;\tScore: 0.9039424451227377\n",
    "Mean Type: Geometric\t;\tNorm Type: Min-Max\t;\tScore Type: Dot Product\t;\tScore: 0.9033684616680311\n",
    "Mean Type: Geometric\t;\tNorm Type: Min-Max\t;\tScore Type: Cosine Similarity\t;\tScore: 0.905506451809487\n",
    "Mean Type: Harmonic\t;\tNorm Type: None\t;\tScore Type: Dot Product\t;\tScore: 0.9035758141006619\n",
    "Mean Type: Harmonic\t;\tNorm Type: None\t;\tScore Type: Cosine Similarity\t;\tScore: 0.871862319090378\n",
    "Mean Type: Harmonic\t;\tNorm Type: L2\t;\tScore Type: Dot Product\t;\tScore: 0.896939534762211\n",
    "Mean Type: Harmonic\t;\tNorm Type: L2\t;\tScore Type: Cosine Similarity\t;\tScore: 0.8997614110645613\n",
    "Mean Type: Harmonic\t;\tNorm Type: Min-Max\t;\tScore Type: Dot Product\t;\tScore: 0.9039771502169843\n",
    "Mean Type: Harmonic\t;\tNorm Type: Min-Max\t;\tScore Type: Cosine Similarity\t;\tScore: 0.9056377540375286\n",
    "\n",
    "\n",
    "Model: msmarco-MiniLM-L-6-v3\n",
    "Mean Type: Arithmetic\t;\tNorm Type: None\t;\tScore Type: Dot Product\t;\tScore: 0.8012344956982066\n",
    "Mean Type: Arithmetic\t;\tNorm Type: None\t;\tScore Type: Cosine Similarity\t;\tScore: 0.9292199428123454\n",
    "Mean Type: Arithmetic\t;\tNorm Type: L2\t;\tScore Type: Dot Product\t;\tScore: 0.9165696120226009\n",
    "Mean Type: Arithmetic\t;\tNorm Type: L2\t;\tScore Type: Cosine Similarity\t;\tScore: 0.9270649164747999\n",
    "Mean Type: Arithmetic\t;\tNorm Type: Min-Max\t;\tScore Type: Dot Product\t;\tScore: 0.9092715370097105\n",
    "Mean Type: Arithmetic\t;\tNorm Type: Min-Max\t;\tScore Type: Cosine Similarity\t;\tScore: 0.9210028411041004\n",
    "Mean Type: Geometric\t;\tNorm Type: None\t;\tScore Type: Dot Product\t;\tScore: 0.8888500508685514\n",
    "Mean Type: Geometric\t;\tNorm Type: None\t;\tScore Type: Cosine Similarity\t;\tScore: 0.8968667985378287\n",
    "Mean Type: Geometric\t;\tNorm Type: L2\t;\tScore Type: Dot Product\t;\tScore: 0.8888500508685514\n",
    "Mean Type: Geometric\t;\tNorm Type: L2\t;\tScore Type: Cosine Similarity\t;\tScore: 0.8968667985378287\n",
    "Mean Type: Geometric\t;\tNorm Type: Min-Max\t;\tScore Type: Dot Product\t;\tScore: 0.8921684494681199\n",
    "Mean Type: Geometric\t;\tNorm Type: Min-Max\t;\tScore Type: Cosine Similarity\t;\tScore: 0.8992281374187605\n",
    "Mean Type: Harmonic\t;\tNorm Type: None\t;\tScore Type: Dot Product\t;\tScore: 0.8982043595202135\n",
    "Mean Type: Harmonic\t;\tNorm Type: None\t;\tScore Type: Cosine Similarity\t;\tScore: 0.8748191363957049\n",
    "Mean Type: Harmonic\t;\tNorm Type: L2\t;\tScore Type: Dot Product\t;\tScore: 0.8797570158889051\n",
    "Mean Type: Harmonic\t;\tNorm Type: L2\t;\tScore Type: Cosine Similarity\t;\tScore: 0.8930827601016538\n",
    "Mean Type: Harmonic\t;\tNorm Type: Min-Max\t;\tScore Type: Dot Product\t;\tScore: 0.8917087718512503\n",
    "Mean Type: Harmonic\t;\tNorm Type: Min-Max\t;\tScore Type: Cosine Similarity\t;\tScore: 0.8999012055136406\n",
    "\n",
    "\n",
    "Model: msmarco-MiniLM-L-12-v3\n",
    "Mean Type: Arithmetic\t;\tNorm Type: None\t;\tScore Type: Dot Product\t;\tScore: 0.8776032245724033\n",
    "Mean Type: Arithmetic\t;\tNorm Type: None\t;\tScore Type: Cosine Similarity\t;\tScore: 0.933440650056653\n",
    "Mean Type: Arithmetic\t;\tNorm Type: L2\t;\tScore Type: Dot Product\t;\tScore: 0.9285852069998198\n",
    "Mean Type: Arithmetic\t;\tNorm Type: L2\t;\tScore Type: Cosine Similarity\t;\tScore: 0.9358733174099106\n",
    "Mean Type: Arithmetic\t;\tNorm Type: Min-Max\t;\tScore Type: Dot Product\t;\tScore: 0.9207252898921064\n",
    "Mean Type: Arithmetic\t;\tNorm Type: Min-Max\t;\tScore Type: Cosine Similarity\t;\tScore: 0.932237276444628\n",
    "Mean Type: Geometric\t;\tNorm Type: None\t;\tScore Type: Dot Product\t;\tScore: 0.8991122679279592\n",
    "Mean Type: Geometric\t;\tNorm Type: None\t;\tScore Type: Cosine Similarity\t;\tScore: 0.9073691143897434\n",
    "Mean Type: Geometric\t;\tNorm Type: L2\t;\tScore Type: Dot Product\t;\tScore: 0.8991122679279592\n",
    "Mean Type: Geometric\t;\tNorm Type: L2\t;\tScore Type: Cosine Similarity\t;\tScore: 0.9073691143897434\n",
    "Mean Type: Geometric\t;\tNorm Type: Min-Max\t;\tScore Type: Dot Product\t;\tScore: 0.9016830626720477\n",
    "Mean Type: Geometric\t;\tNorm Type: Min-Max\t;\tScore Type: Cosine Similarity\t;\tScore: 0.9079785393293677\n",
    "Mean Type: Harmonic\t;\tNorm Type: None\t;\tScore Type: Dot Product\t;\tScore: 0.901939486796454\n",
    "Mean Type: Harmonic\t;\tNorm Type: None\t;\tScore Type: Cosine Similarity\t;\tScore: 0.8885054530108357\n",
    "Mean Type: Harmonic\t;\tNorm Type: L2\t;\tScore Type: Dot Product\t;\tScore: 0.8942753998659146\n",
    "Mean Type: Harmonic\t;\tNorm Type: L2\t;\tScore Type: Cosine Similarity\t;\tScore: 0.9044254897352813\n",
    "Mean Type: Harmonic\t;\tNorm Type: Min-Max\t;\tScore Type: Dot Product\t;\tScore: 0.9020679044067372\n",
    "Mean Type: Harmonic\t;\tNorm Type: Min-Max\t;\tScore Type: Cosine Similarity\t;\tScore: 0.9080186970029352\n",
    "\n",
    "\n",
    "Model: msmarco-distilbert-base-tas-b\n",
    "Mean Type: Arithmetic\t;\tNorm Type: None\t;\tScore Type: Dot Product\t;\tScore: 0.9443515165066183\n",
    "Mean Type: Arithmetic\t;\tNorm Type: None\t;\tScore Type: Cosine Similarity\t;\tScore: 0.9384146895631025\n",
    "Mean Type: Arithmetic\t;\tNorm Type: L2\t;\tScore Type: Dot Product\t;\tScore: 0.9397112660289783\n",
    "Mean Type: Arithmetic\t;\tNorm Type: L2\t;\tScore Type: Cosine Similarity\t;\tScore: 0.9384199146705682\n",
    "Mean Type: Arithmetic\t;\tNorm Type: Min-Max\t;\tScore Type: Dot Product\t;\tScore: 0.9459423058906687\n",
    "Mean Type: Arithmetic\t;\tNorm Type: Min-Max\t;\tScore Type: Cosine Similarity\t;\tScore: 0.9340897358688408\n",
    "Mean Type: Geometric\t;\tNorm Type: None\t;\tScore Type: Dot Product\t;\tScore: 0.9056872248380489\n",
    "Mean Type: Geometric\t;\tNorm Type: None\t;\tScore Type: Cosine Similarity\t;\tScore: 0.9037895806836272\n",
    "Mean Type: Geometric\t;\tNorm Type: L2\t;\tScore Type: Dot Product\t;\tScore: 0.9056872248380489\n",
    "Mean Type: Geometric\t;\tNorm Type: L2\t;\tScore Type: Cosine Similarity\t;\tScore: 0.9037895806836272\n",
    "Mean Type: Geometric\t;\tNorm Type: Min-Max\t;\tScore Type: Dot Product\t;\tScore: 0.9125942540571682\n",
    "Mean Type: Geometric\t;\tNorm Type: Min-Max\t;\tScore Type: Cosine Similarity\t;\tScore: 0.9049612916413237\n",
    "Mean Type: Harmonic\t;\tNorm Type: None\t;\tScore Type: Dot Product\t;\tScore: 0.90351102668269\n",
    "Mean Type: Harmonic\t;\tNorm Type: None\t;\tScore Type: Cosine Similarity\t;\tScore: 0.9048335189372935\n",
    "Mean Type: Harmonic\t;\tNorm Type: L2\t;\tScore Type: Dot Product\t;\tScore: 0.9102277523281436\n",
    "Mean Type: Harmonic\t;\tNorm Type: L2\t;\tScore Type: Cosine Similarity\t;\tScore: 0.9054845825893869\n",
    "Mean Type: Harmonic\t;\tNorm Type: Min-Max\t;\tScore Type: Dot Product\t;\tScore: 0.9127082720837091\n",
    "Mean Type: Harmonic\t;\tNorm Type: Min-Max\t;\tScore Type: Cosine Similarity\t;\tScore: 0.9054176192830672\n",
    "\n",
    "\n",
    "Model: all-distilroberta-v1\n",
    "Mean Type: Arithmetic\t;\tNorm Type: None\t;\tScore Type: Dot Product\t;\tScore: 0.9319617353594265\n",
    "Mean Type: Arithmetic\t;\tNorm Type: None\t;\tScore Type: Cosine Similarity\t;\tScore: 0.9319617353594265\n",
    "Mean Type: Arithmetic\t;\tNorm Type: L2\t;\tScore Type: Dot Product\t;\tScore: 0.9274071349951848\n",
    "Mean Type: Arithmetic\t;\tNorm Type: L2\t;\tScore Type: Cosine Similarity\t;\tScore: 0.9274071349951848\n",
    "Mean Type: Arithmetic\t;\tNorm Type: Min-Max\t;\tScore Type: Dot Product\t;\tScore: 0.9164160498967063\n",
    "Mean Type: Arithmetic\t;\tNorm Type: Min-Max\t;\tScore Type: Cosine Similarity\t;\tScore: 0.9164160498967063\n",
    "Mean Type: Geometric\t;\tNorm Type: None\t;\tScore Type: Dot Product\t;\tScore: 0.8953593630530595\n",
    "Mean Type: Geometric\t;\tNorm Type: None\t;\tScore Type: Cosine Similarity\t;\tScore: 0.8953593630530595\n",
    "Mean Type: Geometric\t;\tNorm Type: L2\t;\tScore Type: Dot Product\t;\tScore: 0.8953593630530595\n",
    "Mean Type: Geometric\t;\tNorm Type: L2\t;\tScore Type: Cosine Similarity\t;\tScore: 0.8953593630530595\n",
    "Mean Type: Geometric\t;\tNorm Type: Min-Max\t;\tScore Type: Dot Product\t;\tScore: 0.895473953919277\n",
    "Mean Type: Geometric\t;\tNorm Type: Min-Max\t;\tScore Type: Cosine Similarity\t;\tScore: 0.895473953919277\n",
    "Mean Type: Harmonic\t;\tNorm Type: None\t;\tScore Type: Dot Product\t;\tScore: 0.8768468459413084\n",
    "Mean Type: Harmonic\t;\tNorm Type: None\t;\tScore Type: Cosine Similarity\t;\tScore: 0.8768468459413084\n",
    "Mean Type: Harmonic\t;\tNorm Type: L2\t;\tScore Type: Dot Product\t;\tScore: 0.8907502820151039\n",
    "Mean Type: Harmonic\t;\tNorm Type: L2\t;\tScore Type: Cosine Similarity\t;\tScore: 0.8907502820151039\n",
    "Mean Type: Harmonic\t;\tNorm Type: Min-Max\t;\tScore Type: Dot Product\t;\tScore: 0.8961730701211849\n",
    "Mean Type: Harmonic\t;\tNorm Type: Min-Max\t;\tScore Type: Cosine Similarity\t;\tScore: 0.8961730701211849"
   ]
  }
 ],
 "metadata": {
  "kernelspec": {
   "display_name": "fetch",
   "language": "python",
   "name": "python3"
  },
  "language_info": {
   "codemirror_mode": {
    "name": "ipython",
    "version": 3
   },
   "file_extension": ".py",
   "mimetype": "text/x-python",
   "name": "python",
   "nbconvert_exporter": "python",
   "pygments_lexer": "ipython3",
   "version": "3.10.13"
  }
 },
 "nbformat": 4,
 "nbformat_minor": 2
}
