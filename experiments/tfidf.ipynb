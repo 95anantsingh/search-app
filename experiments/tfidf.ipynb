{
 "cells": [
  {
   "cell_type": "code",
   "execution_count": null,
   "metadata": {},
   "outputs": [],
   "source": [
    "import numpy as np\n",
    "import pandas as pd\n",
    "import matplotlib.pyplot as plt\n",
    "from sklearn.cluster import KMeans\n",
    "from sklearn.metrics.pairwise import cosine_similarity\n",
    "from sklearn.feature_extraction.text import TfidfVectorizer"
   ]
  },
  {
   "cell_type": "markdown",
   "metadata": {},
   "source": [
    "## Keyword Search"
   ]
  },
  {
   "cell_type": "code",
   "execution_count": null,
   "metadata": {},
   "outputs": [],
   "source": [
    "# # Load the datasets\n",
    "# brands_category_df = pd.read_csv('./dataset/brand_category.csv')\n",
    "# categories_df = pd.read_csv('./dataset/categories.csv')\n",
    "# offer_retailer_df = pd.read_csv('./dataset/offer_retailer.csv')\n",
    "\n",
    "# # Merge brand_category and categories on 'BRAND_BELONGS_TO_CATEGORY' and 'PRODUCT_CATEGORY'\n",
    "# # merged_brand_category = brands_category_df.merge(categories_df, left_on='BRAND_BELONGS_TO_CATEGORY', right_on='PRODUCT_CATEGORY', how='left')\n",
    "\n",
    "# # Merge offer_retailer with the previously merged data on 'BRAND'\n",
    "# merged_df = offer_retailer_df.merge(brands_category_df, on='BRAND', how='left')\n",
    "\n",
    "# # Preprocess the text data and replace NaN values with an empty string\n",
    "# merged_df = merged_df.fillna('')\n",
    "# merged_df['TEXT'] = (merged_df['BRAND'] + ' ' + merged_df['BRAND_BELONGS_TO_CATEGORY'] + ' ' + merged_df['RETAILER']).str.lower()"
   ]
  },
  {
   "cell_type": "code",
   "execution_count": null,
   "metadata": {},
   "outputs": [],
   "source": [
    "# # Load the datasets\n",
    "# brand_category_df = pd.read_csv('./dataset/brand_category.csv')\n",
    "# offer_retailer_df = pd.read_csv('./dataset/offer_retailer.csv')\n",
    "\n",
    "# # Group brand_category_df by 'BRAND_BELONGS_TO_CATEGORY' (brand) and aggregate categories\n",
    "# brand_categories = brand_category_df.groupby('BRAND')['BRAND_BELONGS_TO_CATEGORY'].agg(list).reset_index()\n",
    "# brand_categories.rename(columns={'BRAND_BELONGS_TO_CATEGORY': 'CATEGORIES'}, inplace=True)\n",
    "\n",
    "# # Map the aggregated categories to the 'BRAND' column in offer_retailer_df\n",
    "# merged_df = offer_retailer_df.merge(brand_categories, on='BRAND', how='left')\n",
    "\n",
    "# # Preprocess the text data and replace NaN values with an empty string\n",
    "# merged_df = merged_df.fillna('')\n",
    "# merged_df['TEXT'] = merged_df['TEXT'] = (merged_df['BRAND'] + ' : ' + merged_df['RETAILER'] + ' : ' + merged_df['CATEGORIES'].str.join(', ')).str.lower()\n"
   ]
  },
  {
   "cell_type": "code",
   "execution_count": null,
   "metadata": {},
   "outputs": [],
   "source": [
    "# Load the datasets\n",
    "brand_category_df = pd.read_csv('../data/raw/brand_category.csv')\n",
    "offer_retailer_df = pd.read_csv('../data/raw/offer_retailer.csv')\n",
    "categories_df = pd.read_csv('../data/raw/categories.csv')\n",
    "\n",
    "# Group brand_category_df by 'BRAND_BELONGS_TO_CATEGORY' (brand) and aggregate categories\n",
    "brand_categories = brand_category_df.groupby('BRAND')['BRAND_BELONGS_TO_CATEGORY'].agg(list).reset_index()\n",
    "brand_categories.rename(columns={'BRAND_BELONGS_TO_CATEGORY': 'CATEGORIES'}, inplace=True)\n",
    "\n",
    "# Map the aggregated categories to the 'BRAND' column in offer_retailer_df\n",
    "merged_df = offer_retailer_df.merge(brand_categories, on='BRAND', how='left')\n",
    "\n",
    "# Create a mapping of 'PRODUCT_CATEGORY' to 'IS_CHILD_CATEGORY_TO'\n",
    "category_mapping = categories_df.set_index('PRODUCT_CATEGORY')['IS_CHILD_CATEGORY_TO'].to_dict()\n",
    "\n",
    "# Function to get unique 'IS_CHILD_CATEGORY_TO' values for each brand\n",
    "def get_super_categories(categories):\n",
    "    super_categories = set()\n",
    "    if isinstance(categories, list):\n",
    "        for category in categories:\n",
    "            super_category = category_mapping.get(category)\n",
    "            if super_category:\n",
    "                super_categories.add(super_category)\n",
    "    return list(super_categories) if super_categories else ''\n",
    "\n",
    "# Apply the function to the 'CATEGORIES' column\n",
    "merged_df['SUPER_CATEGORIES'] = merged_df['CATEGORIES'].apply(get_super_categories)\n",
    "\n",
    "# # Preprocess the text data and replace NaN values with an empty string\n",
    "merged_df = merged_df.fillna('')\n",
    "merged_df['TEXT'] = merged_df['TEXT'] = (merged_df['BRAND'] + ' ; ' + merged_df['RETAILER'] + ' ; ' + merged_df['CATEGORIES'].str.join(', ') + ' ; ' + merged_df['SUPER_CATEGORIES'].str.join(', ')).str.lower()"
   ]
  },
  {
   "cell_type": "code",
   "execution_count": null,
   "metadata": {},
   "outputs": [],
   "source": [
    "merged_df.head()"
   ]
  },
  {
   "cell_type": "code",
   "execution_count": null,
   "metadata": {},
   "outputs": [],
   "source": [
    "# Initialize the TF-IDF vectorizer\n",
    "tfidf_vectorizer = TfidfVectorizer()\n",
    "tfidf_matrix = tfidf_vectorizer.fit_transform(merged_df['TEXT'])"
   ]
  },
  {
   "cell_type": "code",
   "execution_count": null,
   "metadata": {},
   "outputs": [],
   "source": [
    "# Function to search for offers based on user input with a similarity threshold\n",
    "def search_offers(user_input, threshold=0.05, dis_threshold=0.3):\n",
    "    user_input = user_input.lower()\n",
    "\n",
    "    # Calculate the TF-IDF vectors for user input\n",
    "    user_vector = tfidf_vectorizer.transform([user_input])\n",
    "\n",
    "    # Calculate cosine similarity between user input and each offer\n",
    "    scores = cosine_similarity(user_vector, tfidf_matrix)\n",
    "\n",
    "    # Sort offers by similarity and return the results above the threshold\n",
    "    results = merged_df.copy()\n",
    "    results['SIMILARITY_SCORE'] = scores[0]\n",
    "    results = results[results['SIMILARITY_SCORE'] > threshold]\n",
    "    results = results.sort_values(by='SIMILARITY_SCORE', ascending=False)\n",
    "\n",
    "    # Display a bar graph of similarity scores\n",
    "    plt.scatter(results['SIMILARITY_SCORE'], results['SIMILARITY_SCORE'])\n",
    "    plt.xlabel('')\n",
    "    plt.ylabel('')\n",
    "    plt.title('Similarity Scores Scatter Plot')\n",
    "\n",
    "    # Apply K-Means clustering to the similarity scores\n",
    "    n_clusters = 2\n",
    "    kmeans = KMeans(n_clusters=n_clusters, random_state=0, n_init='auto')\n",
    "    results['Cluster'] = kmeans.fit_predict(results[['SIMILARITY_SCORE']])\n",
    "    cluster_centers = kmeans.cluster_centers_\n",
    "\n",
    "    # Overlay clusters on the scatter plot\n",
    "    for cluster in range(n_clusters):\n",
    "        cluster_data = results[results['Cluster'] == cluster]\n",
    "        plt.scatter(cluster_data['SIMILARITY_SCORE'], cluster_data['SIMILARITY_SCORE'], label=f'Cluster {cluster}')\n",
    "\n",
    "    # Calculate distances between cluster centers\n",
    "    cluster_0_center = cluster_centers[0]\n",
    "    cluster_1_center = cluster_centers[1]\n",
    "\n",
    "    # Find the lowest point in the cluster with the higher center\n",
    "    lowest_point_cluster_higher_center = results[results['Cluster'] == np.argmax(cluster_centers)]['SIMILARITY_SCORE'].min()\n",
    "\n",
    "    # Find the highest point in the other cluster\n",
    "    highest_point_other_cluster = results[results['Cluster'] != np.argmax(cluster_centers)]['SIMILARITY_SCORE'].max()\n",
    "\n",
    "    # Calculate the Euclidean distance\n",
    "    distance = np.abs(lowest_point_cluster_higher_center - highest_point_other_cluster)\n",
    "    distance_between_centers = np.linalg.norm(cluster_0_center - cluster_1_center)\n",
    "    print(distance, distance_between_centers)\n",
    "\n",
    "    plt.legend()\n",
    "    plt.show()\n",
    "\n",
    "    return results[['OFFER', 'RETAILER', 'BRAND', 'CATEGORIES', 'SIMILARITY_SCORE', 'Cluster']]\n"
   ]
  },
  {
   "cell_type": "code",
   "execution_count": null,
   "metadata": {},
   "outputs": [],
   "source": [
    "# Example usage:\n",
    "# user_input = input(\"Enter your search query: \")\n",
    "user_input = \"Carbonated Soft Drinks\"\n",
    "results = search_offers(user_input)\n"
   ]
  }
 ],
 "metadata": {
  "kernelspec": {
   "display_name": "fetch",
   "language": "python",
   "name": "python3"
  },
  "language_info": {
   "codemirror_mode": {
    "name": "ipython",
    "version": 3
   },
   "file_extension": ".py",
   "mimetype": "text/x-python",
   "name": "python",
   "nbconvert_exporter": "python",
   "pygments_lexer": "ipython3",
   "version": "3.10.13"
  }
 },
 "nbformat": 4,
 "nbformat_minor": 2
}
