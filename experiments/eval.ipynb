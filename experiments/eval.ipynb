{
 "cells": [
  {
   "cell_type": "code",
   "execution_count": 1,
   "metadata": {},
   "outputs": [
    {
     "name": "stdout",
     "output_type": "stream",
     "text": [
      "c:\\Users\\Anant\\Work\\search-app\n"
     ]
    }
   ],
   "source": [
    "# change dir to root\n",
    "%cd ../"
   ]
  },
  {
   "cell_type": "markdown",
   "metadata": {},
   "source": [
    "## Evaluation"
   ]
  },
  {
   "cell_type": "code",
   "execution_count": 2,
   "metadata": {},
   "outputs": [],
   "source": [
    "import json\n",
    "import torch\n",
    "import numpy as np\n",
    "import pandas as pd\n",
    "from tqdm.auto import tqdm\n",
    "from sklearn.metrics import ndcg_score, average_precision_score\n",
    "from core import TFIDFSearch, BM25Search, NeuralSearch, HybridSearch, RETRIVAL_MODELS, SCORE_TYPES, MEAN_TYPES, NORM_TYPES"
   ]
  },
  {
   "cell_type": "code",
   "execution_count": 3,
   "metadata": {},
   "outputs": [],
   "source": [
    "def get_metrics(true_scores_df, model, mean_type=None, norm_type=None, k=20):\n",
    "    ndcg = []\n",
    "    pbar = tqdm(\n",
    "        desc=\"Evaluating nDCG Score \",\n",
    "        total=true_scores_df.shape[0],\n",
    "        unit=\"query\",\n",
    "        leave=False,\n",
    "    )\n",
    "    for index, row in true_scores_df.iterrows():\n",
    "        if model.__class__.__name__ == \"HybridSearch\":\n",
    "            y_score = (\n",
    "                model.get_scores(row.QUERY, mean_type, norm_type)\n",
    "                .sort_index()\n",
    "                .SCORE.tolist()\n",
    "            )\n",
    "        else:\n",
    "            y_score = model.get_scores(row.QUERY).sort_index().SCORE.tolist()\n",
    "        y_true = json.loads(row.SCORES)\n",
    "        ndcg.append(ndcg_score([y_true], [y_score], k=k))\n",
    "        pbar.update(1)\n",
    "    pbar.close()\n",
    "\n",
    "    return np.mean(ndcg)"
   ]
  },
  {
   "cell_type": "code",
   "execution_count": 4,
   "metadata": {},
   "outputs": [],
   "source": [
    "true_scores = pd.read_csv('./data/processed/true_scores.csv')"
   ]
  },
  {
   "cell_type": "markdown",
   "metadata": {},
   "source": [
    "### TFIDF"
   ]
  },
  {
   "cell_type": "code",
   "execution_count": null,
   "metadata": {},
   "outputs": [],
   "source": [
    "model = TFIDFSearch()\n",
    "print('NDCG Score:',get_metrics(true_scores, model))"
   ]
  },
  {
   "cell_type": "markdown",
   "metadata": {},
   "source": [
    "### BM25"
   ]
  },
  {
   "cell_type": "code",
   "execution_count": null,
   "metadata": {},
   "outputs": [],
   "source": [
    "model = BM25Search()\n",
    "print('NDCG Score:',get_metrics(true_scores, model))"
   ]
  },
  {
   "cell_type": "markdown",
   "metadata": {},
   "source": [
    "### Neural"
   ]
  },
  {
   "cell_type": "code",
   "execution_count": null,
   "metadata": {},
   "outputs": [],
   "source": [
    "for model_name in RETRIVAL_MODELS:\n",
    "    print(f'Model: {model_name}')\n",
    "    for score_type in SCORE_TYPES:\n",
    "        model = NeuralSearch(model=model_name, score_type=score_type)\n",
    "        score = get_metrics(true_scores, model)\n",
    "        print(f'Score Type: {score_type}\\t;\\tScore: {score}')\n",
    "        del(model)\n",
    "        torch.cuda.empty_cache()\n",
    "    print('\\n')"
   ]
  },
  {
   "cell_type": "code",
   "execution_count": null,
   "metadata": {},
   "outputs": [],
   "source": [
    "Model: BAAI/bge-base-en-v1.5\n",
    "Score Type: Dot Product\t        ;\tScore: 0.8575061348159865\n",
    "Score Type: Cosine Similarity\t;\tScore: 0.8575061348159865\n",
    "\n",
    "Model: thenlper/gte-large\n",
    "Score Type: Dot Product\t        ;\tScore: 0.8773796912454879\n",
    "Score Type: Cosine Similarity\t;\tScore: 0.8773796912454879\n",
    "\n",
    "Model: llmrails/ember-v1\n",
    "Score Type: Dot Product\t        ;\tScore: 0.8041243430795993\n",
    "Score Type: Cosine Similarity\t;\tScore: 0.8434121092569689\n",
    "\n",
    "Model: thenlper/gte-base\n",
    "Score Type: Dot Product\t        ;\tScore: 0.8843679159293903\n",
    "Score Type: Cosine Similarity\t;\tScore: 0.8843679159293903\n",
    "\n",
    "Model: all-distilroberta-v1\n",
    "Score Type: Dot Product\t        ;\tScore: 0.7205834484750344\n",
    "Score Type: Cosine Similarity\t;\tScore: 0.7205834484750344\n",
    "\n",
    "Model: msmarco-distilbert-base-v4\n",
    "Score Type: Dot Product\t        ;\tScore: 0.7505768344386088\n",
    "Score Type: Cosine Similarity\t;\tScore: 0.7674091011409188\n",
    "\n",
    "Model: msmarco-MiniLM-L-6-v3\n",
    "Score Type: Dot Product\t        ;\tScore: 0.6871907026867569\n",
    "Score Type: Cosine Similarity\t;\tScore: 0.7588424587892733\n",
    "\n",
    "Model: msmarco-MiniLM-L-12-v3\n",
    "Score Type: Dot Product\t        ;\tScore: 0.7376601596872528\n",
    "Score Type: Cosine Similarity\t;\tScore: 0.7880065060269283\n",
    "\n",
    "Model: msmarco-distilbert-base-tas-b\n",
    "Score Type: Dot Product\t        ;\tScore: 0.9012300542971058\n",
    "Score Type: Cosine Similarity\t;\tScore: 0.8716073130245685"
   ]
  },
  {
   "cell_type": "markdown",
   "metadata": {},
   "source": [
    "### Hybid"
   ]
  },
  {
   "cell_type": "code",
   "execution_count": 7,
   "metadata": {},
   "outputs": [
    {
     "name": "stdout",
     "output_type": "stream",
     "text": [
      "Model: BAAI/bge-base-en-v1.5\n"
     ]
    },
    {
     "data": {
      "application/vnd.jupyter.widget-view+json": {
       "model_id": "0185974c1a53469cbe4a4c53ee896923",
       "version_major": 2,
       "version_minor": 0
      },
      "text/plain": [
       "Evaluating nDCG Score :   0%|          | 0/3333 [00:00<?, ?query/s]"
      ]
     },
     "metadata": {},
     "output_type": "display_data"
    },
    {
     "name": "stdout",
     "output_type": "stream",
     "text": [
      "Mean Type: Arithmetic\t;\tNorm Type: None\t;\tScore Type: Dot Product\t;\tScore: 0.9404823059231748\n"
     ]
    },
    {
     "data": {
      "application/vnd.jupyter.widget-view+json": {
       "model_id": "060b11d4bc1b4b8abc428ae06469b98a",
       "version_major": 2,
       "version_minor": 0
      },
      "text/plain": [
       "Evaluating nDCG Score :   0%|          | 0/3333 [00:00<?, ?query/s]"
      ]
     },
     "metadata": {},
     "output_type": "display_data"
    },
    {
     "name": "stdout",
     "output_type": "stream",
     "text": [
      "Mean Type: Arithmetic\t;\tNorm Type: None\t;\tScore Type: Cosine Similarity\t;\tScore: 0.9404823059231748\n"
     ]
    },
    {
     "data": {
      "application/vnd.jupyter.widget-view+json": {
       "model_id": "3f137ab2025b4cac96dab2b5ad31da55",
       "version_major": 2,
       "version_minor": 0
      },
      "text/plain": [
       "Evaluating nDCG Score :   0%|          | 0/3333 [00:00<?, ?query/s]"
      ]
     },
     "metadata": {},
     "output_type": "display_data"
    },
    {
     "name": "stdout",
     "output_type": "stream",
     "text": [
      "Mean Type: Arithmetic\t;\tNorm Type: L2\t;\tScore Type: Dot Product\t;\tScore: 0.9406323735097765\n"
     ]
    },
    {
     "data": {
      "application/vnd.jupyter.widget-view+json": {
       "model_id": "4a7de2223d234580aacece03c8c56368",
       "version_major": 2,
       "version_minor": 0
      },
      "text/plain": [
       "Evaluating nDCG Score :   0%|          | 0/3333 [00:00<?, ?query/s]"
      ]
     },
     "metadata": {},
     "output_type": "display_data"
    },
    {
     "name": "stdout",
     "output_type": "stream",
     "text": [
      "Mean Type: Arithmetic\t;\tNorm Type: L2\t;\tScore Type: Cosine Similarity\t;\tScore: 0.9406323735097765\n"
     ]
    },
    {
     "data": {
      "application/vnd.jupyter.widget-view+json": {
       "model_id": "c92a6ac8440e4dcc812ae73d80ed3128",
       "version_major": 2,
       "version_minor": 0
      },
      "text/plain": [
       "Evaluating nDCG Score :   0%|          | 0/3333 [00:00<?, ?query/s]"
      ]
     },
     "metadata": {},
     "output_type": "display_data"
    },
    {
     "name": "stdout",
     "output_type": "stream",
     "text": [
      "Mean Type: Arithmetic\t;\tNorm Type: Min-Max\t;\tScore Type: Dot Product\t;\tScore: 0.9381730386226522\n"
     ]
    },
    {
     "data": {
      "application/vnd.jupyter.widget-view+json": {
       "model_id": "e0cf03dd13c443d784f4cd65546b93cc",
       "version_major": 2,
       "version_minor": 0
      },
      "text/plain": [
       "Evaluating nDCG Score :   0%|          | 0/3333 [00:00<?, ?query/s]"
      ]
     },
     "metadata": {},
     "output_type": "display_data"
    },
    {
     "name": "stdout",
     "output_type": "stream",
     "text": [
      "Mean Type: Arithmetic\t;\tNorm Type: Min-Max\t;\tScore Type: Cosine Similarity\t;\tScore: 0.9381730386226522\n"
     ]
    },
    {
     "data": {
      "application/vnd.jupyter.widget-view+json": {
       "model_id": "501127aeb0f5422d96ad7f337cbff372",
       "version_major": 2,
       "version_minor": 0
      },
      "text/plain": [
       "Evaluating nDCG Score :   0%|          | 0/3333 [00:00<?, ?query/s]"
      ]
     },
     "metadata": {},
     "output_type": "display_data"
    },
    {
     "name": "stdout",
     "output_type": "stream",
     "text": [
      "Mean Type: Geometric\t;\tNorm Type: None\t;\tScore Type: Dot Product\t;\tScore: 0.906591376131558\n"
     ]
    },
    {
     "data": {
      "application/vnd.jupyter.widget-view+json": {
       "model_id": "8dccd47bea2e44ad9c7760856a3b4a10",
       "version_major": 2,
       "version_minor": 0
      },
      "text/plain": [
       "Evaluating nDCG Score :   0%|          | 0/3333 [00:00<?, ?query/s]"
      ]
     },
     "metadata": {},
     "output_type": "display_data"
    }
   ],
   "source": [
    "for model_name in RETRIVAL_MODELS:\n",
    "    print(f'Model: {model_name}')\n",
    "    for mean_type in MEAN_TYPES:\n",
    "        for norm_type in [None]+NORM_TYPES:\n",
    "            for score_type in SCORE_TYPES:\n",
    "                model = HybridSearch(model=model_name, score_type=score_type)\n",
    "                score = get_metrics(true_scores, model, mean_type, norm_type)\n",
    "                print(f'Mean Type: {mean_type}\\t;\\tNorm Type: {norm_type}\\t;\\tScore Type: {score_type}\\t;\\tScore: {score}')\n",
    "                del(model)\n",
    "                torch.cuda.empty_cache()\n",
    "    print('\\n')"
   ]
  },
  {
   "cell_type": "code",
   "execution_count": null,
   "metadata": {},
   "outputs": [],
   "source": [
    "Model: BAAI/bge-base-en-v1.5\n",
    "Mean Type: Arithmetic\t;\tNorm Type: None\t;\tScore Type: Dot Product\t;\tScore: 0.9404823059231748\n",
    "Mean Type: Arithmetic\t;\tNorm Type: None\t;\tScore Type: Cosine Similarity\t;\tScore: 0.9404823059231748\n",
    "Mean Type: Arithmetic\t;\tNorm Type: L2\t;\tScore Type: Dot Product\t;\tScore: 0.9406323735097765\n",
    "Mean Type: Arithmetic\t;\tNorm Type: L2\t;\tScore Type: Cosine Similarity\t;\tScore: 0.9406323735097765\n",
    "Mean Type: Arithmetic\t;\tNorm Type: Min-Max\t;\tScore Type: Dot Product\t;\tScore: 0.9381730386226522"
   ]
  }
 ],
 "metadata": {
  "kernelspec": {
   "display_name": "fetch",
   "language": "python",
   "name": "python3"
  },
  "language_info": {
   "codemirror_mode": {
    "name": "ipython",
    "version": 3
   },
   "file_extension": ".py",
   "mimetype": "text/x-python",
   "name": "python",
   "nbconvert_exporter": "python",
   "pygments_lexer": "ipython3",
   "version": "3.10.13"
  }
 },
 "nbformat": 4,
 "nbformat_minor": 2
}
